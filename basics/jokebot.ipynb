{
 "cells": [
  {
   "cell_type": "code",
   "execution_count": 2,
   "metadata": {},
   "outputs": [
    {
     "name": "stdout",
     "output_type": "stream",
     "text": [
      "Here is your joke of the day:\n",
      "Joke:\n",
      "The six stages of debugging:\n",
      "1. That can't happen.\n",
      "2. That doesn't happen on my machine.\n",
      "3. That shouldn't happen.\n",
      "4. Why does that happen?\n",
      "5. Oh, I see.\n",
      "6. How did that ever work?\n"
     ]
    }
   ],
   "source": [
    "import requests\n",
    "\n",
    "def get_joke():\n",
    "    \n",
    "    url = \"https://v2.jokeapi.dev/joke/Programming?type=single\"\n",
    "    response = requests.get(url)\n",
    "    if response.status_code == 200:\n",
    "        joke = response.json()\n",
    "        \n",
    "       \n",
    "        if joke[\"type\"] == \"single\":\n",
    "            print(joke[\"joke\"])\n",
    "        \n",
    "       \n",
    "        elif joke[\"type\"] == \"twopart\":\n",
    "            print(f\"{joke['setup']} - {joke['delivery']}\")\n",
    "        else:\n",
    "            print(\"Sorry, could not get a joke at the moment.\")\n",
    "    else:\n",
    "        print(\"Failed to retrieve a joke. Please try again later.\")\n",
    "\n",
    "\n",
    "print(\"Here is your joke of the day:\")\n",
    "print(\"Joke:\")\n",
    "get_joke()\n"
   ]
  },
  {
   "cell_type": "code",
   "execution_count": null,
   "metadata": {},
   "outputs": [],
   "source": []
  }
 ],
 "metadata": {
  "kernelspec": {
   "display_name": "Python 3",
   "language": "python",
   "name": "python3"
  },
  "language_info": {
   "codemirror_mode": {
    "name": "ipython",
    "version": 3
   },
   "file_extension": ".py",
   "mimetype": "text/x-python",
   "name": "python",
   "nbconvert_exporter": "python",
   "pygments_lexer": "ipython3",
   "version": "3.12.9"
  }
 },
 "nbformat": 4,
 "nbformat_minor": 2
}
